{
  "nbformat": 4,
  "nbformat_minor": 0,
  "metadata": {
    "colab": {
      "provenance": []
    },
    "kernelspec": {
      "name": "python3",
      "display_name": "Python 3"
    },
    "language_info": {
      "name": "python"
    }
  },
  "cells": [
    {
      "cell_type": "code",
      "source": [
        "from google.colab import drive\n",
        "drive.mount(\"/content/gdrive\")\n",
        "\n",
        "# Load the data\n",
        "path = '/content/gdrive/MyDrive/att_faces'\n",
        "folder_names = ['s1', 's2', 's3', 's4', 's5', 's6', 's7', 's8', 's9', 's10',\n",
        "                's11', 's12', 's13', 's14', 's15', 's16', 's17', 's18', 's19', 's20',\n",
        "                's21', 's22', 's23', 's24', 's25', 's26', 's27', 's28', 's29', 's30',\n",
        "                's31', 's32', 's33', 's34', 's35', 's36', 's37', 's38', 's39', 's40']\n",
        "                \n",
        "train_file_names = ['1.pgm', '2.pgm', '3.pgm', '4.pgm', '5.pgm', \n",
        "                    '6.pgm', '7.pgm', '8.pgm', '9.pgm']\n",
        "\n",
        "test_file_names = ['10.pgm']\n",
        "\n",
        "\n",
        "import numpy as np\n",
        "import scipy as sc\n",
        "import matplotlib.pyplot as plt\n",
        "import matplotlib.image as img"
      ],
      "metadata": {
        "colab": {
          "base_uri": "https://localhost:8080/"
        },
        "id": "Cqh7jnUBEoYv",
        "outputId": "28ec4170-7089-495a-b7a5-5741c743c6df"
      },
      "execution_count": null,
      "outputs": [
        {
          "output_type": "stream",
          "name": "stdout",
          "text": [
            "Mounted at /content/gdrive\n"
          ]
        }
      ]
    },
    {
      "cell_type": "markdown",
      "source": [
        "## **4.1 Creating Training and Data Sets**"
      ],
      "metadata": {
        "id": "T2Zq5dnXDVUa"
      }
    },
    {
      "cell_type": "code",
      "execution_count": null,
      "metadata": {
        "id": "RKikwmlTDNUN"
      },
      "outputs": [],
      "source": [
        "#Open Each Folder\n",
        "samples = 9\n",
        "testSamples = 1\n",
        "Xtest = np.zeros((10304,40))\n",
        "Xtrain = np.zeros((10304,360))\n",
        "Ytrain = np.zeros(40*samples)\n",
        "Ytest = np.zeros(40*testSamples)\n",
        "\n",
        "for folder in folder_names:\n",
        "  i = folder_names.index(folder)\n",
        "  for File in train_file_names:\n",
        "      j = train_file_names.index(File)\n",
        "      im_path = path + '/' + folder + '/' + File\n",
        "      current = img.imread(im_path)\n",
        "      Xtrain[:, i*samples + j] = np.ravel(current)\n",
        "      Ytrain[i*samples + j] = int(i + 1)\n",
        "  for File in test_file_names:\n",
        "      j = test_file_names.index(File)\n",
        "      im_path = path + '/' + folder + '/' + File\n",
        "      current = img.imread(im_path)\n",
        "      Xtest[:, i*testSamples + j] = np.ravel(current)\n",
        "      Ytest[i*testSamples + j] = int(i + 1)"
      ]
    },
    {
      "cell_type": "code",
      "source": [
        "print(Xtest.shape)\n",
        "print(Xtrain.shape)\n",
        "print(Ytest.shape)\n",
        "print(Ytrain.shape)"
      ],
      "metadata": {
        "colab": {
          "base_uri": "https://localhost:8080/"
        },
        "id": "L7POYu5z6ELX",
        "outputId": "f24dcfc2-b445-4e62-f757-037310260fc5"
      },
      "execution_count": null,
      "outputs": [
        {
          "output_type": "stream",
          "name": "stdout",
          "text": [
            "(10304, 40)\n",
            "(10304, 360)\n",
            "(40,)\n",
            "(360,)\n"
          ]
        }
      ]
    },
    {
      "cell_type": "markdown",
      "source": [
        "## **5.1 PCA Transform of Training Points**"
      ],
      "metadata": {
        "id": "8wQ4VcUv8NAx"
      }
    },
    {
      "cell_type": "code",
      "source": [
        "def train(Xtrain, K):\n",
        "  N, n_faces = Xtrain.shape\n",
        "  mu = Xtrain.mean(axis=1) \n",
        "  X = np.zeros((N, n_faces))\n",
        "  for i in range(n_faces):\n",
        "    X[:, i] = Xtrain[:, i] - mu\n",
        "\n",
        "  sigma = np.matmul(X, X.transpose()) \n",
        "  sigma /= n_faces\n",
        "  _, sigma_eigs = sc.sparse.linalg.eigs(sigma, k= K)\n",
        "  P_H = np.conj(np.transpose(sigma_eigs))\n",
        "  X_pca = np.matmul(P_H, X)\n",
        "  return mu, sigma_eigs, X_pca"
      ],
      "metadata": {
        "id": "nH3g1JuZ8gRa"
      },
      "execution_count": null,
      "outputs": []
    },
    {
      "cell_type": "markdown",
      "source": [
        "##**5.2 PCA Transform of Test**"
      ],
      "metadata": {
        "id": "ncxcw0pvUCZ3"
      }
    },
    {
      "cell_type": "code",
      "source": [
        "def test(mean, P, Xtest):\n",
        "  N, n_faces = Xtest.shape\n",
        "  X = np.zeros((N, n_faces))\n",
        "\n",
        "  for i in range(n_faces):\n",
        "    X[:, i] = Xtest[:, i] - mean\n",
        "    \n",
        "  P_H = np.conj(np.transpose(P))\n",
        "  X_pca = np.matmul(P_H, X)\n",
        "\n",
        "  return X_pca"
      ],
      "metadata": {
        "id": "JnuD-wg0UB1m"
      },
      "execution_count": null,
      "outputs": []
    },
    {
      "cell_type": "markdown",
      "source": [
        "## **6.1 Nearest Neighbor Class**"
      ],
      "metadata": {
        "id": "kTEupACZU4j-"
      }
    },
    {
      "cell_type": "code",
      "source": [
        "def nearest_neighbor(Xtrain, Xtest):\n",
        "    distances = sc.spatial.distance.cdist(Xtrain.transpose(), Xtest.transpose())\n",
        "    predicted = np.argmin(distances, axis=0)\n",
        "    return predicted\n",
        "\n",
        "for K in [1, 5, 10, 20]:\n",
        "  mean, P, train_PCA = train(Xtrain, K)\n",
        "  test_PCA = test(mean, P, Xtest)\n",
        "  predicted = nearest_neighbor(Xtrain, Xtest)\n",
        "  for pred in predicted:\n",
        "    predicted_folder = int(pred / 40) + 1\n",
        "    predicted_image = int(pred % 9) + 1"
      ],
      "metadata": {
        "id": "7TaKziqnU40E"
      },
      "execution_count": null,
      "outputs": []
    },
    {
      "cell_type": "code",
      "source": [
        "n_examples = 3\n",
        "n_samples = 9\n",
        "\n",
        "im_dataset_path = \"/content/gdrive/MyDrive/att_faces\"\n",
        "\n",
        "training_set, training_labels, test_set, test_labels = training_and_test_sets(n_samples, im_dataset_path)\n",
        "\n",
        "\n",
        "for k in [1, 5, 10, 20]:\n",
        "\n",
        "  for jj in range(n_examples):\n",
        "              # Displaying images\n",
        "              im_number = np.random.randint(1, 40)  # random image from the test set\n",
        "              im_path = im_dataset_path + '/s' + str(im_number) + '/' + str(10) + '.pgm'\n",
        "              og_img = mpimg.imread(im_path)\n",
        "              predicted_person = int(training_labels[neighbor[im_number-1]])\n",
        "              s_number = neighbor[im_number - 1] - (predicted_person-1)*n_samples\n",
        "              im_path = im_dataset_path + '/s' + str(predicted_person) + '/' + str(s_number+1) + '.pgm'\n",
        "              nearest_img = mpimg.imread(im_path)\n",
        "              fig = plt.figure()\n",
        "              plt.suptitle('Original and Nearest Images: k = ' + str(k), fontsize=10) #str( is the # of k = 1,2,5,10)\n",
        "              ax1 = fig.add_subplot(1,2,1)\n",
        "              ax1.imshow(og_img, cmap='gray')\n",
        "              ax1.axes.xaxis.set_visible(False)\n",
        "              ax1.axes.yaxis.set_visible(False)\n",
        "              plt.title('Original', fontsize=9)\n",
        "              ax2 = fig.add_subplot(1,2,2)\n",
        "              ax2.imshow(nearest_img, cmap='gray')\n",
        "              ax2.axes.xaxis.set_visible(False)\n",
        "              ax2.axes.yaxis.set_visible(False)\n",
        "              plt.title('Nearest', fontsize=9)\n",
        "              # Saving plot\n",
        "              fig_path_name = 'k_' + str(k) + '_ex_' + str(jj) + '.png'\n",
        "              plt.savefig(fig_path_name, dpi=300)\n",
        "              plt.show()"
      ],
      "metadata": {
        "id": "Be8XPL7NfMz8"
      },
      "execution_count": null,
      "outputs": []
    }
  ]
}